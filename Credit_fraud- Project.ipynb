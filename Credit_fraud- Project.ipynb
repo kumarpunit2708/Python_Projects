{
 "cells": [
  {
   "cell_type": "code",
   "execution_count": 48,
   "id": "5ab890a6",
   "metadata": {},
   "outputs": [],
   "source": [
    "import numpy as np\n",
    "import pandas as pd\n",
    "import matplotlib.pyplot as plt\n",
    "import seaborn as sns"
   ]
  },
  {
   "cell_type": "code",
   "execution_count": 49,
   "id": "45b86666",
   "metadata": {},
   "outputs": [
    {
     "data": {
      "text/html": [
       "<div>\n",
       "<style scoped>\n",
       "    .dataframe tbody tr th:only-of-type {\n",
       "        vertical-align: middle;\n",
       "    }\n",
       "\n",
       "    .dataframe tbody tr th {\n",
       "        vertical-align: top;\n",
       "    }\n",
       "\n",
       "    .dataframe thead th {\n",
       "        text-align: right;\n",
       "    }\n",
       "</style>\n",
       "<table border=\"1\" class=\"dataframe\">\n",
       "  <thead>\n",
       "    <tr style=\"text-align: right;\">\n",
       "      <th></th>\n",
       "      <th>Time</th>\n",
       "      <th>V1</th>\n",
       "      <th>V2</th>\n",
       "      <th>V3</th>\n",
       "      <th>V4</th>\n",
       "      <th>V5</th>\n",
       "      <th>V6</th>\n",
       "      <th>V7</th>\n",
       "      <th>V8</th>\n",
       "      <th>V9</th>\n",
       "      <th>...</th>\n",
       "      <th>V21</th>\n",
       "      <th>V22</th>\n",
       "      <th>V23</th>\n",
       "      <th>V24</th>\n",
       "      <th>V25</th>\n",
       "      <th>V26</th>\n",
       "      <th>V27</th>\n",
       "      <th>V28</th>\n",
       "      <th>Amount</th>\n",
       "      <th>Class</th>\n",
       "    </tr>\n",
       "  </thead>\n",
       "  <tbody>\n",
       "    <tr>\n",
       "      <th>0</th>\n",
       "      <td>0</td>\n",
       "      <td>-1.359807</td>\n",
       "      <td>-0.072781</td>\n",
       "      <td>2.536347</td>\n",
       "      <td>1.378155</td>\n",
       "      <td>-0.338321</td>\n",
       "      <td>0.462388</td>\n",
       "      <td>0.239599</td>\n",
       "      <td>0.098698</td>\n",
       "      <td>0.363787</td>\n",
       "      <td>...</td>\n",
       "      <td>-0.018307</td>\n",
       "      <td>0.277838</td>\n",
       "      <td>-0.110474</td>\n",
       "      <td>0.066928</td>\n",
       "      <td>0.128539</td>\n",
       "      <td>-0.189115</td>\n",
       "      <td>0.133558</td>\n",
       "      <td>-0.021053</td>\n",
       "      <td>149.62</td>\n",
       "      <td>0.0</td>\n",
       "    </tr>\n",
       "    <tr>\n",
       "      <th>1</th>\n",
       "      <td>0</td>\n",
       "      <td>1.191857</td>\n",
       "      <td>0.266151</td>\n",
       "      <td>0.166480</td>\n",
       "      <td>0.448154</td>\n",
       "      <td>0.060018</td>\n",
       "      <td>-0.082361</td>\n",
       "      <td>-0.078803</td>\n",
       "      <td>0.085102</td>\n",
       "      <td>-0.255425</td>\n",
       "      <td>...</td>\n",
       "      <td>-0.225775</td>\n",
       "      <td>-0.638672</td>\n",
       "      <td>0.101288</td>\n",
       "      <td>-0.339846</td>\n",
       "      <td>0.167170</td>\n",
       "      <td>0.125895</td>\n",
       "      <td>-0.008983</td>\n",
       "      <td>0.014724</td>\n",
       "      <td>2.69</td>\n",
       "      <td>0.0</td>\n",
       "    </tr>\n",
       "    <tr>\n",
       "      <th>2</th>\n",
       "      <td>1</td>\n",
       "      <td>-1.358354</td>\n",
       "      <td>-1.340163</td>\n",
       "      <td>1.773209</td>\n",
       "      <td>0.379780</td>\n",
       "      <td>-0.503198</td>\n",
       "      <td>1.800499</td>\n",
       "      <td>0.791461</td>\n",
       "      <td>0.247676</td>\n",
       "      <td>-1.514654</td>\n",
       "      <td>...</td>\n",
       "      <td>0.247998</td>\n",
       "      <td>0.771679</td>\n",
       "      <td>0.909412</td>\n",
       "      <td>-0.689281</td>\n",
       "      <td>-0.327642</td>\n",
       "      <td>-0.139097</td>\n",
       "      <td>-0.055353</td>\n",
       "      <td>-0.059752</td>\n",
       "      <td>378.66</td>\n",
       "      <td>0.0</td>\n",
       "    </tr>\n",
       "    <tr>\n",
       "      <th>3</th>\n",
       "      <td>1</td>\n",
       "      <td>-0.966272</td>\n",
       "      <td>-0.185226</td>\n",
       "      <td>1.792993</td>\n",
       "      <td>-0.863291</td>\n",
       "      <td>-0.010309</td>\n",
       "      <td>1.247203</td>\n",
       "      <td>0.237609</td>\n",
       "      <td>0.377436</td>\n",
       "      <td>-1.387024</td>\n",
       "      <td>...</td>\n",
       "      <td>-0.108300</td>\n",
       "      <td>0.005274</td>\n",
       "      <td>-0.190321</td>\n",
       "      <td>-1.175575</td>\n",
       "      <td>0.647376</td>\n",
       "      <td>-0.221929</td>\n",
       "      <td>0.062723</td>\n",
       "      <td>0.061458</td>\n",
       "      <td>123.50</td>\n",
       "      <td>0.0</td>\n",
       "    </tr>\n",
       "    <tr>\n",
       "      <th>4</th>\n",
       "      <td>2</td>\n",
       "      <td>-1.158233</td>\n",
       "      <td>0.877737</td>\n",
       "      <td>1.548718</td>\n",
       "      <td>0.403034</td>\n",
       "      <td>-0.407193</td>\n",
       "      <td>0.095921</td>\n",
       "      <td>0.592941</td>\n",
       "      <td>-0.270533</td>\n",
       "      <td>0.817739</td>\n",
       "      <td>...</td>\n",
       "      <td>-0.009431</td>\n",
       "      <td>0.798278</td>\n",
       "      <td>-0.137458</td>\n",
       "      <td>0.141267</td>\n",
       "      <td>-0.206010</td>\n",
       "      <td>0.502292</td>\n",
       "      <td>0.219422</td>\n",
       "      <td>0.215153</td>\n",
       "      <td>69.99</td>\n",
       "      <td>0.0</td>\n",
       "    </tr>\n",
       "  </tbody>\n",
       "</table>\n",
       "<p>5 rows × 31 columns</p>\n",
       "</div>"
      ],
      "text/plain": [
       "   Time        V1        V2        V3        V4        V5        V6        V7  \\\n",
       "0     0 -1.359807 -0.072781  2.536347  1.378155 -0.338321  0.462388  0.239599   \n",
       "1     0  1.191857  0.266151  0.166480  0.448154  0.060018 -0.082361 -0.078803   \n",
       "2     1 -1.358354 -1.340163  1.773209  0.379780 -0.503198  1.800499  0.791461   \n",
       "3     1 -0.966272 -0.185226  1.792993 -0.863291 -0.010309  1.247203  0.237609   \n",
       "4     2 -1.158233  0.877737  1.548718  0.403034 -0.407193  0.095921  0.592941   \n",
       "\n",
       "         V8        V9  ...       V21       V22       V23       V24       V25  \\\n",
       "0  0.098698  0.363787  ... -0.018307  0.277838 -0.110474  0.066928  0.128539   \n",
       "1  0.085102 -0.255425  ... -0.225775 -0.638672  0.101288 -0.339846  0.167170   \n",
       "2  0.247676 -1.514654  ...  0.247998  0.771679  0.909412 -0.689281 -0.327642   \n",
       "3  0.377436 -1.387024  ... -0.108300  0.005274 -0.190321 -1.175575  0.647376   \n",
       "4 -0.270533  0.817739  ... -0.009431  0.798278 -0.137458  0.141267 -0.206010   \n",
       "\n",
       "        V26       V27       V28  Amount  Class  \n",
       "0 -0.189115  0.133558 -0.021053  149.62    0.0  \n",
       "1  0.125895 -0.008983  0.014724    2.69    0.0  \n",
       "2 -0.139097 -0.055353 -0.059752  378.66    0.0  \n",
       "3 -0.221929  0.062723  0.061458  123.50    0.0  \n",
       "4  0.502292  0.219422  0.215153   69.99    0.0  \n",
       "\n",
       "[5 rows x 31 columns]"
      ]
     },
     "execution_count": 49,
     "metadata": {},
     "output_type": "execute_result"
    }
   ],
   "source": [
    "data = pd.read_csv('creditcard.csv.crdownload')\n",
    "data.head()"
   ]
  },
  {
   "cell_type": "code",
   "execution_count": 50,
   "id": "74e21f7a",
   "metadata": {},
   "outputs": [
    {
     "data": {
      "text/plain": [
       "(11665, 31)"
      ]
     },
     "execution_count": 50,
     "metadata": {},
     "output_type": "execute_result"
    }
   ],
   "source": [
    "data.shape"
   ]
  },
  {
   "cell_type": "code",
   "execution_count": 51,
   "id": "eec9e7ee",
   "metadata": {},
   "outputs": [
    {
     "name": "stdout",
     "output_type": "stream",
     "text": [
      "<class 'pandas.core.frame.DataFrame'>\n",
      "RangeIndex: 11665 entries, 0 to 11664\n",
      "Data columns (total 31 columns):\n",
      " #   Column  Non-Null Count  Dtype  \n",
      "---  ------  --------------  -----  \n",
      " 0   Time    11665 non-null  int64  \n",
      " 1   V1      11665 non-null  float64\n",
      " 2   V2      11665 non-null  float64\n",
      " 3   V3      11665 non-null  float64\n",
      " 4   V4      11665 non-null  float64\n",
      " 5   V5      11665 non-null  float64\n",
      " 6   V6      11665 non-null  float64\n",
      " 7   V7      11665 non-null  float64\n",
      " 8   V8      11665 non-null  float64\n",
      " 9   V9      11665 non-null  float64\n",
      " 10  V10     11665 non-null  float64\n",
      " 11  V11     11665 non-null  float64\n",
      " 12  V12     11664 non-null  float64\n",
      " 13  V13     11664 non-null  float64\n",
      " 14  V14     11664 non-null  float64\n",
      " 15  V15     11664 non-null  float64\n",
      " 16  V16     11664 non-null  float64\n",
      " 17  V17     11664 non-null  float64\n",
      " 18  V18     11664 non-null  float64\n",
      " 19  V19     11664 non-null  float64\n",
      " 20  V20     11664 non-null  float64\n",
      " 21  V21     11664 non-null  float64\n",
      " 22  V22     11664 non-null  float64\n",
      " 23  V23     11664 non-null  float64\n",
      " 24  V24     11664 non-null  float64\n",
      " 25  V25     11664 non-null  float64\n",
      " 26  V26     11664 non-null  float64\n",
      " 27  V27     11664 non-null  float64\n",
      " 28  V28     11664 non-null  float64\n",
      " 29  Amount  11664 non-null  float64\n",
      " 30  Class   11664 non-null  float64\n",
      "dtypes: float64(30), int64(1)\n",
      "memory usage: 2.8 MB\n"
     ]
    }
   ],
   "source": [
    "data.info()"
   ]
  },
  {
   "cell_type": "code",
   "execution_count": 52,
   "id": "94e87cf8",
   "metadata": {},
   "outputs": [
    {
     "data": {
      "text/html": [
       "<div>\n",
       "<style scoped>\n",
       "    .dataframe tbody tr th:only-of-type {\n",
       "        vertical-align: middle;\n",
       "    }\n",
       "\n",
       "    .dataframe tbody tr th {\n",
       "        vertical-align: top;\n",
       "    }\n",
       "\n",
       "    .dataframe thead th {\n",
       "        text-align: right;\n",
       "    }\n",
       "</style>\n",
       "<table border=\"1\" class=\"dataframe\">\n",
       "  <thead>\n",
       "    <tr style=\"text-align: right;\">\n",
       "      <th></th>\n",
       "      <th>Time</th>\n",
       "      <th>V1</th>\n",
       "      <th>V2</th>\n",
       "      <th>V3</th>\n",
       "      <th>V4</th>\n",
       "      <th>V5</th>\n",
       "      <th>V6</th>\n",
       "      <th>V7</th>\n",
       "      <th>V8</th>\n",
       "      <th>V9</th>\n",
       "      <th>...</th>\n",
       "      <th>V21</th>\n",
       "      <th>V22</th>\n",
       "      <th>V23</th>\n",
       "      <th>V24</th>\n",
       "      <th>V25</th>\n",
       "      <th>V26</th>\n",
       "      <th>V27</th>\n",
       "      <th>V28</th>\n",
       "      <th>Amount</th>\n",
       "      <th>Class</th>\n",
       "    </tr>\n",
       "  </thead>\n",
       "  <tbody>\n",
       "    <tr>\n",
       "      <th>count</th>\n",
       "      <td>11665.000000</td>\n",
       "      <td>11665.000000</td>\n",
       "      <td>11665.000000</td>\n",
       "      <td>11665.000000</td>\n",
       "      <td>11665.000000</td>\n",
       "      <td>11665.000000</td>\n",
       "      <td>11665.000000</td>\n",
       "      <td>11665.000000</td>\n",
       "      <td>11665.000000</td>\n",
       "      <td>11665.000000</td>\n",
       "      <td>...</td>\n",
       "      <td>11664.000000</td>\n",
       "      <td>11664.000000</td>\n",
       "      <td>11664.000000</td>\n",
       "      <td>11664.000000</td>\n",
       "      <td>11664.000000</td>\n",
       "      <td>11664.000000</td>\n",
       "      <td>11664.000000</td>\n",
       "      <td>11664.000000</td>\n",
       "      <td>11664.000000</td>\n",
       "      <td>11664.000000</td>\n",
       "    </tr>\n",
       "    <tr>\n",
       "      <th>mean</th>\n",
       "      <td>7701.086069</td>\n",
       "      <td>-0.219601</td>\n",
       "      <td>0.274988</td>\n",
       "      <td>0.897990</td>\n",
       "      <td>0.281016</td>\n",
       "      <td>-0.078995</td>\n",
       "      <td>0.140055</td>\n",
       "      <td>-0.111620</td>\n",
       "      <td>-0.051877</td>\n",
       "      <td>0.893589</td>\n",
       "      <td>...</td>\n",
       "      <td>-0.061180</td>\n",
       "      <td>-0.155205</td>\n",
       "      <td>-0.034310</td>\n",
       "      <td>0.017421</td>\n",
       "      <td>0.101538</td>\n",
       "      <td>0.070630</td>\n",
       "      <td>0.007481</td>\n",
       "      <td>0.000804</td>\n",
       "      <td>62.795132</td>\n",
       "      <td>0.004201</td>\n",
       "    </tr>\n",
       "    <tr>\n",
       "      <th>std</th>\n",
       "      <td>5964.969525</td>\n",
       "      <td>1.561122</td>\n",
       "      <td>1.305785</td>\n",
       "      <td>1.272504</td>\n",
       "      <td>1.467970</td>\n",
       "      <td>1.184333</td>\n",
       "      <td>1.305472</td>\n",
       "      <td>1.129256</td>\n",
       "      <td>1.236992</td>\n",
       "      <td>1.182130</td>\n",
       "      <td>...</td>\n",
       "      <td>0.902556</td>\n",
       "      <td>0.624275</td>\n",
       "      <td>0.508488</td>\n",
       "      <td>0.592137</td>\n",
       "      <td>0.429725</td>\n",
       "      <td>0.560307</td>\n",
       "      <td>0.406841</td>\n",
       "      <td>0.262342</td>\n",
       "      <td>179.816783</td>\n",
       "      <td>0.064681</td>\n",
       "    </tr>\n",
       "    <tr>\n",
       "      <th>min</th>\n",
       "      <td>0.000000</td>\n",
       "      <td>-27.670569</td>\n",
       "      <td>-34.607649</td>\n",
       "      <td>-21.405836</td>\n",
       "      <td>-4.657545</td>\n",
       "      <td>-32.092129</td>\n",
       "      <td>-23.496714</td>\n",
       "      <td>-26.548144</td>\n",
       "      <td>-23.632502</td>\n",
       "      <td>-7.175097</td>\n",
       "      <td>...</td>\n",
       "      <td>-11.468435</td>\n",
       "      <td>-8.555808</td>\n",
       "      <td>-19.254328</td>\n",
       "      <td>-2.512377</td>\n",
       "      <td>-4.781606</td>\n",
       "      <td>-1.338556</td>\n",
       "      <td>-7.976100</td>\n",
       "      <td>-3.575312</td>\n",
       "      <td>0.000000</td>\n",
       "      <td>0.000000</td>\n",
       "    </tr>\n",
       "    <tr>\n",
       "      <th>25%</th>\n",
       "      <td>2463.000000</td>\n",
       "      <td>-0.987193</td>\n",
       "      <td>-0.257287</td>\n",
       "      <td>0.416175</td>\n",
       "      <td>-0.615559</td>\n",
       "      <td>-0.680719</td>\n",
       "      <td>-0.622413</td>\n",
       "      <td>-0.583742</td>\n",
       "      <td>-0.186419</td>\n",
       "      <td>0.181510</td>\n",
       "      <td>...</td>\n",
       "      <td>-0.268948</td>\n",
       "      <td>-0.545531</td>\n",
       "      <td>-0.172765</td>\n",
       "      <td>-0.332771</td>\n",
       "      <td>-0.146729</td>\n",
       "      <td>-0.346888</td>\n",
       "      <td>-0.080638</td>\n",
       "      <td>-0.015513</td>\n",
       "      <td>5.000000</td>\n",
       "      <td>0.000000</td>\n",
       "    </tr>\n",
       "    <tr>\n",
       "      <th>50%</th>\n",
       "      <td>6308.000000</td>\n",
       "      <td>-0.347783</td>\n",
       "      <td>0.262619</td>\n",
       "      <td>0.950034</td>\n",
       "      <td>0.215393</td>\n",
       "      <td>-0.179654</td>\n",
       "      <td>-0.147786</td>\n",
       "      <td>-0.088491</td>\n",
       "      <td>0.011665</td>\n",
       "      <td>0.880826</td>\n",
       "      <td>...</td>\n",
       "      <td>-0.130094</td>\n",
       "      <td>-0.129191</td>\n",
       "      <td>-0.044523</td>\n",
       "      <td>0.073145</td>\n",
       "      <td>0.139638</td>\n",
       "      <td>0.009023</td>\n",
       "      <td>-0.003818</td>\n",
       "      <td>0.015397</td>\n",
       "      <td>15.950000</td>\n",
       "      <td>0.000000</td>\n",
       "    </tr>\n",
       "    <tr>\n",
       "      <th>75%</th>\n",
       "      <td>11898.000000</td>\n",
       "      <td>1.159319</td>\n",
       "      <td>0.888750</td>\n",
       "      <td>1.616224</td>\n",
       "      <td>1.153380</td>\n",
       "      <td>0.348187</td>\n",
       "      <td>0.508886</td>\n",
       "      <td>0.439387</td>\n",
       "      <td>0.267067</td>\n",
       "      <td>1.570361</td>\n",
       "      <td>...</td>\n",
       "      <td>0.023295</td>\n",
       "      <td>0.235448</td>\n",
       "      <td>0.076761</td>\n",
       "      <td>0.402522</td>\n",
       "      <td>0.374859</td>\n",
       "      <td>0.417677</td>\n",
       "      <td>0.108443</td>\n",
       "      <td>0.073961</td>\n",
       "      <td>50.000000</td>\n",
       "      <td>0.000000</td>\n",
       "    </tr>\n",
       "    <tr>\n",
       "      <th>max</th>\n",
       "      <td>19915.000000</td>\n",
       "      <td>1.960497</td>\n",
       "      <td>9.067613</td>\n",
       "      <td>4.101716</td>\n",
       "      <td>11.927512</td>\n",
       "      <td>34.099309</td>\n",
       "      <td>21.393069</td>\n",
       "      <td>34.303177</td>\n",
       "      <td>5.499963</td>\n",
       "      <td>10.392889</td>\n",
       "      <td>...</td>\n",
       "      <td>22.599543</td>\n",
       "      <td>4.534454</td>\n",
       "      <td>13.876221</td>\n",
       "      <td>3.200201</td>\n",
       "      <td>5.525093</td>\n",
       "      <td>3.517346</td>\n",
       "      <td>8.254376</td>\n",
       "      <td>4.860769</td>\n",
       "      <td>7712.430000</td>\n",
       "      <td>1.000000</td>\n",
       "    </tr>\n",
       "  </tbody>\n",
       "</table>\n",
       "<p>8 rows × 31 columns</p>\n",
       "</div>"
      ],
      "text/plain": [
       "               Time            V1            V2            V3            V4  \\\n",
       "count  11665.000000  11665.000000  11665.000000  11665.000000  11665.000000   \n",
       "mean    7701.086069     -0.219601      0.274988      0.897990      0.281016   \n",
       "std     5964.969525      1.561122      1.305785      1.272504      1.467970   \n",
       "min        0.000000    -27.670569    -34.607649    -21.405836     -4.657545   \n",
       "25%     2463.000000     -0.987193     -0.257287      0.416175     -0.615559   \n",
       "50%     6308.000000     -0.347783      0.262619      0.950034      0.215393   \n",
       "75%    11898.000000      1.159319      0.888750      1.616224      1.153380   \n",
       "max    19915.000000      1.960497      9.067613      4.101716     11.927512   \n",
       "\n",
       "                 V5            V6            V7            V8            V9  \\\n",
       "count  11665.000000  11665.000000  11665.000000  11665.000000  11665.000000   \n",
       "mean      -0.078995      0.140055     -0.111620     -0.051877      0.893589   \n",
       "std        1.184333      1.305472      1.129256      1.236992      1.182130   \n",
       "min      -32.092129    -23.496714    -26.548144    -23.632502     -7.175097   \n",
       "25%       -0.680719     -0.622413     -0.583742     -0.186419      0.181510   \n",
       "50%       -0.179654     -0.147786     -0.088491      0.011665      0.880826   \n",
       "75%        0.348187      0.508886      0.439387      0.267067      1.570361   \n",
       "max       34.099309     21.393069     34.303177      5.499963     10.392889   \n",
       "\n",
       "       ...           V21           V22           V23           V24  \\\n",
       "count  ...  11664.000000  11664.000000  11664.000000  11664.000000   \n",
       "mean   ...     -0.061180     -0.155205     -0.034310      0.017421   \n",
       "std    ...      0.902556      0.624275      0.508488      0.592137   \n",
       "min    ...    -11.468435     -8.555808    -19.254328     -2.512377   \n",
       "25%    ...     -0.268948     -0.545531     -0.172765     -0.332771   \n",
       "50%    ...     -0.130094     -0.129191     -0.044523      0.073145   \n",
       "75%    ...      0.023295      0.235448      0.076761      0.402522   \n",
       "max    ...     22.599543      4.534454     13.876221      3.200201   \n",
       "\n",
       "                V25           V26           V27           V28        Amount  \\\n",
       "count  11664.000000  11664.000000  11664.000000  11664.000000  11664.000000   \n",
       "mean       0.101538      0.070630      0.007481      0.000804     62.795132   \n",
       "std        0.429725      0.560307      0.406841      0.262342    179.816783   \n",
       "min       -4.781606     -1.338556     -7.976100     -3.575312      0.000000   \n",
       "25%       -0.146729     -0.346888     -0.080638     -0.015513      5.000000   \n",
       "50%        0.139638      0.009023     -0.003818      0.015397     15.950000   \n",
       "75%        0.374859      0.417677      0.108443      0.073961     50.000000   \n",
       "max        5.525093      3.517346      8.254376      4.860769   7712.430000   \n",
       "\n",
       "              Class  \n",
       "count  11664.000000  \n",
       "mean       0.004201  \n",
       "std        0.064681  \n",
       "min        0.000000  \n",
       "25%        0.000000  \n",
       "50%        0.000000  \n",
       "75%        0.000000  \n",
       "max        1.000000  \n",
       "\n",
       "[8 rows x 31 columns]"
      ]
     },
     "execution_count": 52,
     "metadata": {},
     "output_type": "execute_result"
    }
   ],
   "source": [
    "data.describe()"
   ]
  },
  {
   "cell_type": "code",
   "execution_count": 53,
   "id": "104f6259",
   "metadata": {},
   "outputs": [
    {
     "data": {
      "text/plain": [
       "Time      0\n",
       "V1        0\n",
       "V2        0\n",
       "V3        0\n",
       "V4        0\n",
       "V5        0\n",
       "V6        0\n",
       "V7        0\n",
       "V8        0\n",
       "V9        0\n",
       "V10       0\n",
       "V11       0\n",
       "V12       1\n",
       "V13       1\n",
       "V14       1\n",
       "V15       1\n",
       "V16       1\n",
       "V17       1\n",
       "V18       1\n",
       "V19       1\n",
       "V20       1\n",
       "V21       1\n",
       "V22       1\n",
       "V23       1\n",
       "V24       1\n",
       "V25       1\n",
       "V26       1\n",
       "V27       1\n",
       "V28       1\n",
       "Amount    1\n",
       "Class     1\n",
       "dtype: int64"
      ]
     },
     "execution_count": 53,
     "metadata": {},
     "output_type": "execute_result"
    }
   ],
   "source": [
    "data.isna().sum()"
   ]
  },
  {
   "cell_type": "code",
   "execution_count": 82,
   "id": "d8b8f2fe",
   "metadata": {},
   "outputs": [
    {
     "data": {
      "text/plain": [
       "V1                  False\n",
       "V2                  False\n",
       "V3                  False\n",
       "V4                  False\n",
       "V5                  False\n",
       "V6                  False\n",
       "V7                  False\n",
       "V8                  False\n",
       "V9                  False\n",
       "V10                 False\n",
       "V11                 False\n",
       "V12                 False\n",
       "V13                 False\n",
       "V14                 False\n",
       "V15                 False\n",
       "V16                 False\n",
       "V17                 False\n",
       "V18                 False\n",
       "V19                 False\n",
       "V20                 False\n",
       "V21                 False\n",
       "V22                 False\n",
       "V23                 False\n",
       "V24                 False\n",
       "V25                 False\n",
       "V26                 False\n",
       "V27                 False\n",
       "V28                 False\n",
       "Class               False\n",
       "Normalizedamount    False\n",
       "dtype: bool"
      ]
     },
     "execution_count": 82,
     "metadata": {},
     "output_type": "execute_result"
    }
   ],
   "source": [
    "#2 check the null values\n",
    "data.isna().any()"
   ]
  },
  {
   "cell_type": "code",
   "execution_count": 55,
   "id": "5017ffeb",
   "metadata": {},
   "outputs": [
    {
     "data": {
      "text/plain": [
       "<AxesSubplot:>"
      ]
     },
     "execution_count": 55,
     "metadata": {},
     "output_type": "execute_result"
    },
    {
     "data": {
      "image/png": "[encoded data removed]",
      "text/plain": [
       "<Figure size 432x288 with 2 Axes>"
      ]
     },
     "metadata": {
      "needs_background": "light"
     },
     "output_type": "display_data"
    }
   ],
   "source": [
    "sns.heatmap(data.isnull())"
   ]
  },
  {
   "cell_type": "code",
   "execution_count": 56,
   "id": "64a58e46",
   "metadata": {},
   "outputs": [],
   "source": [
    "data = data.dropna()"
   ]
  },
  {
   "cell_type": "code",
   "execution_count": 57,
   "id": "b54a554a",
   "metadata": {},
   "outputs": [
    {
     "data": {
      "text/plain": [
       "Time      0\n",
       "V1        0\n",
       "V2        0\n",
       "V3        0\n",
       "V4        0\n",
       "V5        0\n",
       "V6        0\n",
       "V7        0\n",
       "V8        0\n",
       "V9        0\n",
       "V10       0\n",
       "V11       0\n",
       "V12       0\n",
       "V13       0\n",
       "V14       0\n",
       "V15       0\n",
       "V16       0\n",
       "V17       0\n",
       "V18       0\n",
       "V19       0\n",
       "V20       0\n",
       "V21       0\n",
       "V22       0\n",
       "V23       0\n",
       "V24       0\n",
       "V25       0\n",
       "V26       0\n",
       "V27       0\n",
       "V28       0\n",
       "Amount    0\n",
       "Class     0\n",
       "dtype: int64"
      ]
     },
     "execution_count": 57,
     "metadata": {},
     "output_type": "execute_result"
    }
   ],
   "source": [
    "data.isna().sum()"
   ]
  },
  {
   "cell_type": "code",
   "execution_count": 58,
   "id": "544a4f49",
   "metadata": {},
   "outputs": [
    {
     "name": "stdout",
     "output_type": "stream",
     "text": [
      "Genuine Transactions 11615\n",
      "fraud Transactions 49\n",
      "fraud_Transactions% 0.4200960219478738\n"
     ]
    }
   ],
   "source": [
    "#3From the dataset, calculate the number of genuine transactions, number of\n",
    "#fraud transactions and the percentage of fraud transactions\n",
    "non_fraud = len(data[data['Class']== 0])\n",
    "fraud = len(data[data['Class']== 1])\n",
    "fraud_percent = (fraud/(fraud + non_fraud))*100\n",
    "print(\"Genuine Transactions\" , non_fraud)\n",
    "print(\"fraud Transactions\" , fraud)\n",
    "print(\"fraud_Transactions%\" , fraud_percent)"
   ]
  },
  {
   "cell_type": "code",
   "execution_count": 59,
   "id": "726b0389",
   "metadata": {},
   "outputs": [
    {
     "data": {
      "image/png": "[encoded data removed]",
      "text/plain": [
       "<Figure size 432x288 with 1 Axes>"
      ]
     },
     "metadata": {
      "needs_background": "light"
     },
     "output_type": "display_data"
    }
   ],
   "source": [
    "#4Using the visualization module, visualize the genuine and fraudulent\n",
    "labels = [\"Genuine\", \"Fraud\"]\n",
    "count_classes = data.value_counts(data['Class'], sort= True)\n",
    "count_classes.plot(kind = \"bar\", rot = 0)\n",
    "plt.title(\"Visualization of Labels\")\n",
    "plt.ylabel(\"Count\")\n",
    "plt.xticks(range(2), labels)\n",
    "plt.show()"
   ]
  },
  {
   "cell_type": "code",
   "execution_count": 60,
   "id": "80367ad9",
   "metadata": {},
   "outputs": [],
   "source": [
    "#5 Using the Standard Scaler module, normalize the amount column and\n",
    "#store the new values in the NormalizedAmount column.\n",
    "from sklearn.preprocessing import StandardScaler\n",
    "scaler = StandardScaler()\n",
    "data['Normalizedamount'] = scaler.fit_transform(data['Amount'].values.reshape(-1,1))\n",
    "data.drop(['Amount', 'Time'], inplace = True, axis=1)\n",
    "Y = data['Class']\n",
    "X = data.drop(['Class'], axis=1)"
   ]
  },
  {
   "cell_type": "code",
   "execution_count": 61,
   "id": "458e3ba7",
   "metadata": {},
   "outputs": [
    {
     "name": "stdout",
     "output_type": "stream",
     "text": [
      "shape of x_train (8164, 29)\n",
      "shape of x_test (3500,)\n"
     ]
    }
   ],
   "source": [
    "# 6 Split the dataset in train and test set and have a 70:30 split ratio for the model\n",
    "from sklearn.model_selection import train_test_split\n",
    "X_train, X_test, Y_train, Y_test = train_test_split(X,Y, test_size=0.3, random_state=42)\n",
    "print('shape of x_train' , X_train.shape)\n",
    "print('shape of x_test' , Y_test.shape)"
   ]
  },
  {
   "cell_type": "code",
   "execution_count": 63,
   "id": "d5f11856",
   "metadata": {},
   "outputs": [],
   "source": [
    "# 7 Now use a decision tree and random forest model for training on top of the train set\n",
    "from sklearn.ensemble import RandomForestClassifier\n",
    "from sklearn.tree import DecisionTreeClassifier\n",
    "#decisionTree\n",
    "Decision_tree = DecisionTreeClassifier()\n",
    "#random Forest\n",
    "Random_forest =RandomForestClassifier()"
   ]
  },
  {
   "cell_type": "code",
   "execution_count": 64,
   "id": "68b9d80c",
   "metadata": {},
   "outputs": [
    {
     "name": "stdout",
     "output_type": "stream",
     "text": [
      "Decision_treescore 99.82857142857144\n",
      "Random_forestscore 99.91428571428571\n"
     ]
    }
   ],
   "source": [
    "# 8 Compare the predictions of both models using predict()\n",
    "Decision_tree.fit(X_train,Y_train)\n",
    "pred_dt = Decision_tree.predict(X_test)\n",
    "Decision_tree_score = Decision_tree.score(X_test,Y_test)*100\n",
    "Random_forest.fit(X_train,Y_train)\n",
    "pred_rf =Random_forest.predict(X_test)\n",
    "Random_forest_score = Random_forest.score(X_test,Y_test)*100\n",
    "# 9 Compare the accuracy of both models using score().\n",
    "print('Decision_treescore', Decision_tree_score)\n",
    "print('Random_forestscore' , Random_forest_score)"
   ]
  },
  {
   "cell_type": "code",
   "execution_count": 66,
   "id": "f150cf3e",
   "metadata": {},
   "outputs": [
    {
     "data": {
      "text/plain": [
       "array([0., 0., 0., 0., 0., 0., 0., 0., 0., 0., 0., 0., 0., 0., 0., 0., 0.,\n",
       "       0., 0., 0.])"
      ]
     },
     "execution_count": 66,
     "metadata": {},
     "output_type": "execute_result"
    }
   ],
   "source": [
    "pred_dt[:20]"
   ]
  },
  {
   "cell_type": "code",
   "execution_count": 67,
   "id": "4e023a66",
   "metadata": {},
   "outputs": [
    {
     "data": {
      "text/plain": [
       "array([0., 0., 0., 0., 0., 0., 0., 0., 0., 0., 0., 0., 0., 0., 0., 0., 0.,\n",
       "       0., 0., 0.])"
      ]
     },
     "execution_count": 67,
     "metadata": {},
     "output_type": "execute_result"
    }
   ],
   "source": [
    "pred_rf[:20]"
   ]
  },
  {
   "cell_type": "code",
   "execution_count": 71,
   "id": "f47b5e8c",
   "metadata": {},
   "outputs": [],
   "source": [
    "# 10 Check the performance matrix of both models and compare which model is having the highest performance\n",
    "from sklearn.metrics import accuracy_score, precision_score, confusion_matrix, recall_score, f1_score"
   ]
  },
  {
   "cell_type": "code",
   "execution_count": 80,
   "id": "4176b4ca",
   "metadata": {},
   "outputs": [],
   "source": [
    "def metrics(actuals, predictions):\n",
    "    print('accuracy: {:.5f}'.format(accuracy_score(actuals,predictions)))\n",
    "    print('Precision: {:.5f}'.format(precision_score(actuals,predictions)))\n",
    "    print('recall: {:.5f}'.format(recall_score(actuals,predictions)))\n",
    "    print('f1: {:.5f}'.format(f1_score(actuals,predictions)))"
   ]
  },
  {
   "cell_type": "code",
   "execution_count": 72,
   "id": "b1053fe4",
   "metadata": {},
   "outputs": [
    {
     "name": "stdout",
     "output_type": "stream",
     "text": [
      "Confusion Matrix - Decision Tree\n",
      "[[3480    4]\n",
      " [   2   14]]\n"
     ]
    }
   ],
   "source": [
    "confusion_matrix_dt = confusion_matrix(Y_test,pred_dt.round())\n",
    "print(\"Confusion Matrix - Decision Tree\")\n",
    "print(confusion_matrix_dt)"
   ]
  },
  {
   "cell_type": "code",
   "execution_count": 81,
   "id": "08b4844d",
   "metadata": {},
   "outputs": [
    {
     "name": "stdout",
     "output_type": "stream",
     "text": [
      "accuracy: 0.99829\n",
      "Precision: 0.77778\n",
      "recall: 0.87500\n",
      "f1: 0.82353\n"
     ]
    }
   ],
   "source": [
    "metrics(Y_test,pred_dt)"
   ]
  },
  {
   "cell_type": "code",
   "execution_count": null,
   "id": "ae3ae8e4",
   "metadata": {},
   "outputs": [],
   "source": []
  },
  {
   "cell_type": "code",
   "execution_count": 46,
   "id": "73c6bb7c",
   "metadata": {},
   "outputs": [
    {
     "data": {
      "text/plain": [
       "Index(['V1', 'V2', 'V3', 'V4', 'V5', 'V6', 'V7', 'V8', 'V9', 'V10', 'V11',\n",
       "       'V12', 'V13', 'V14', 'V15', 'V16', 'V17', 'V18', 'V19', 'V20', 'V21',\n",
       "       'V22', 'V23', 'V24', 'V25', 'V26', 'V27', 'V28', 'Class',\n",
       "       'Normalizedamount'],\n",
       "      dtype='object')"
      ]
     },
     "execution_count": 46,
     "metadata": {},
     "output_type": "execute_result"
    }
   ],
   "source": [
    "data.columns"
   ]
  }
 ],
 "metadata": {
  "kernelspec": {
   "display_name": "Python 3 (ipykernel)",
   "language": "python",
   "name": "python3"
  },
  "language_info": {
   "codemirror_mode": {
    "name": "ipython",
    "version": 3
   },
   "file_extension": ".py",
   "mimetype": "text/x-python",
   "name": "python",
   "nbconvert_exporter": "python",
   "pygments_lexer": "ipython3",
   "version": "3.9.7"
  }
 },
 "nbformat": 4,
 "nbformat_minor": 5
}
