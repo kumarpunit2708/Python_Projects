{
 "cells": [
  {
   "cell_type": "code",
   "execution_count": 1,
   "id": "8ff78f64",
   "metadata": {},
   "outputs": [],
   "source": [
    "import numpy as np\n",
    "import pandas as pd\n",
    "import matplotlib.pyplot as plt\n",
    "import seaborn as sns"
   ]
  },
  {
   "cell_type": "code",
   "execution_count": 2,
   "id": "c12060ab",
   "metadata": {},
   "outputs": [
    {
     "data": {
      "text/html": [
       "<div>\n",
       "<style scoped>\n",
       "    .dataframe tbody tr th:only-of-type {\n",
       "        vertical-align: middle;\n",
       "    }\n",
       "\n",
       "    .dataframe tbody tr th {\n",
       "        vertical-align: top;\n",
       "    }\n",
       "\n",
       "    .dataframe thead th {\n",
       "        text-align: right;\n",
       "    }\n",
       "</style>\n",
       "<table border=\"1\" class=\"dataframe\">\n",
       "  <thead>\n",
       "    <tr style=\"text-align: right;\">\n",
       "      <th></th>\n",
       "      <th>Id</th>\n",
       "      <th>Name</th>\n",
       "      <th>Franchise</th>\n",
       "      <th>Category</th>\n",
       "      <th>City</th>\n",
       "      <th>No_Of_Item</th>\n",
       "      <th>Order_Placed</th>\n",
       "      <th>Revenue</th>\n",
       "    </tr>\n",
       "  </thead>\n",
       "  <tbody>\n",
       "    <tr>\n",
       "      <th>0</th>\n",
       "      <td>101</td>\n",
       "      <td>HungryHowie'sPizza</td>\n",
       "      <td>Yes</td>\n",
       "      <td>Mexican</td>\n",
       "      <td>Bengaluru</td>\n",
       "      <td>55</td>\n",
       "      <td>5.5</td>\n",
       "      <td>5953753</td>\n",
       "    </tr>\n",
       "    <tr>\n",
       "      <th>1</th>\n",
       "      <td>102</td>\n",
       "      <td>CharleysPhillySteaks</td>\n",
       "      <td>No</td>\n",
       "      <td>Varied Menu</td>\n",
       "      <td>Gurugram</td>\n",
       "      <td>72</td>\n",
       "      <td>6.8</td>\n",
       "      <td>7223131</td>\n",
       "    </tr>\n",
       "    <tr>\n",
       "      <th>2</th>\n",
       "      <td>103</td>\n",
       "      <td>Chuy's</td>\n",
       "      <td>Yes</td>\n",
       "      <td>Chicken</td>\n",
       "      <td>Pune</td>\n",
       "      <td>25</td>\n",
       "      <td>1.9</td>\n",
       "      <td>2555379</td>\n",
       "    </tr>\n",
       "    <tr>\n",
       "      <th>3</th>\n",
       "      <td>104</td>\n",
       "      <td>O'Charley's</td>\n",
       "      <td>Yes</td>\n",
       "      <td>Italian/Pizza</td>\n",
       "      <td>Mumbai</td>\n",
       "      <td>18</td>\n",
       "      <td>2.5</td>\n",
       "      <td>2175511</td>\n",
       "    </tr>\n",
       "    <tr>\n",
       "      <th>4</th>\n",
       "      <td>105</td>\n",
       "      <td>PolloTropical</td>\n",
       "      <td>Yes</td>\n",
       "      <td>Pizza</td>\n",
       "      <td>Noida</td>\n",
       "      <td>48</td>\n",
       "      <td>4.2</td>\n",
       "      <td>4816715</td>\n",
       "    </tr>\n",
       "  </tbody>\n",
       "</table>\n",
       "</div>"
      ],
      "text/plain": [
       "    Id                  Name Franchise       Category       City  No_Of_Item  \\\n",
       "0  101    HungryHowie'sPizza       Yes        Mexican  Bengaluru          55   \n",
       "1  102  CharleysPhillySteaks        No    Varied Menu   Gurugram          72   \n",
       "2  103                Chuy's       Yes        Chicken       Pune          25   \n",
       "3  104           O'Charley's       Yes  Italian/Pizza     Mumbai          18   \n",
       "4  105         PolloTropical       Yes          Pizza      Noida          48   \n",
       "\n",
       "   Order_Placed  Revenue  \n",
       "0           5.5  5953753  \n",
       "1           6.8  7223131  \n",
       "2           1.9  2555379  \n",
       "3           2.5  2175511  \n",
       "4           4.2  4816715  "
      ]
     },
     "execution_count": 2,
     "metadata": {},
     "output_type": "execute_result"
    }
   ],
   "source": [
    "data = pd.read_csv('revenue_prediction.csv')\n",
    "data.head()"
   ]
  },
  {
   "cell_type": "code",
   "execution_count": null,
   "id": "6e0b150f",
   "metadata": {},
   "outputs": [],
   "source": [
    "#In this project, you have to predict the restaurant revenue based on the\n",
    "#independent features using a machine learning algorithm of your own choice"
   ]
  },
  {
   "cell_type": "code",
   "execution_count": 3,
   "id": "b6d715db",
   "metadata": {},
   "outputs": [
    {
     "data": {
      "text/plain": [
       "(100, 8)"
      ]
     },
     "execution_count": 3,
     "metadata": {},
     "output_type": "execute_result"
    }
   ],
   "source": [
    "#check the data shape\n",
    "data.shape"
   ]
  },
  {
   "cell_type": "code",
   "execution_count": 4,
   "id": "46ccadcf",
   "metadata": {},
   "outputs": [
    {
     "name": "stdout",
     "output_type": "stream",
     "text": [
      "<class 'pandas.core.frame.DataFrame'>\n",
      "RangeIndex: 100 entries, 0 to 99\n",
      "Data columns (total 8 columns):\n",
      " #   Column        Non-Null Count  Dtype  \n",
      "---  ------        --------------  -----  \n",
      " 0   Id            100 non-null    int64  \n",
      " 1   Name          100 non-null    object \n",
      " 2   Franchise     100 non-null    object \n",
      " 3   Category      100 non-null    object \n",
      " 4   City          100 non-null    object \n",
      " 5   No_Of_Item    100 non-null    int64  \n",
      " 6   Order_Placed  100 non-null    float64\n",
      " 7   Revenue       100 non-null    int64  \n",
      "dtypes: float64(1), int64(3), object(4)\n",
      "memory usage: 6.4+ KB\n"
     ]
    }
   ],
   "source": [
    "data.info()"
   ]
  },
  {
   "cell_type": "code",
   "execution_count": 8,
   "id": "1de34474",
   "metadata": {},
   "outputs": [
    {
     "data": {
      "text/html": [
       "<div>\n",
       "<style scoped>\n",
       "    .dataframe tbody tr th:only-of-type {\n",
       "        vertical-align: middle;\n",
       "    }\n",
       "\n",
       "    .dataframe tbody tr th {\n",
       "        vertical-align: top;\n",
       "    }\n",
       "\n",
       "    .dataframe thead th {\n",
       "        text-align: right;\n",
       "    }\n",
       "</style>\n",
       "<table border=\"1\" class=\"dataframe\">\n",
       "  <thead>\n",
       "    <tr style=\"text-align: right;\">\n",
       "      <th></th>\n",
       "      <th>Order_Placed</th>\n",
       "      <th>Revenue</th>\n",
       "    </tr>\n",
       "  </thead>\n",
       "  <tbody>\n",
       "    <tr>\n",
       "      <th>0</th>\n",
       "      <td>5.5</td>\n",
       "      <td>5953753</td>\n",
       "    </tr>\n",
       "    <tr>\n",
       "      <th>1</th>\n",
       "      <td>6.8</td>\n",
       "      <td>7223131</td>\n",
       "    </tr>\n",
       "    <tr>\n",
       "      <th>2</th>\n",
       "      <td>1.9</td>\n",
       "      <td>2555379</td>\n",
       "    </tr>\n",
       "    <tr>\n",
       "      <th>3</th>\n",
       "      <td>2.5</td>\n",
       "      <td>2175511</td>\n",
       "    </tr>\n",
       "    <tr>\n",
       "      <th>4</th>\n",
       "      <td>4.2</td>\n",
       "      <td>4816715</td>\n",
       "    </tr>\n",
       "  </tbody>\n",
       "</table>\n",
       "</div>"
      ],
      "text/plain": [
       "   Order_Placed  Revenue\n",
       "0           5.5  5953753\n",
       "1           6.8  7223131\n",
       "2           1.9  2555379\n",
       "3           2.5  2175511\n",
       "4           4.2  4816715"
      ]
     },
     "execution_count": 8,
     "metadata": {},
     "output_type": "execute_result"
    }
   ],
   "source": [
    "#remove unneccesary columns\n",
    "data = data.drop(columns=['Id', 'Name', 'Franchise', 'Category', 'City', 'No_Of_Item'])\n",
    "data.head()"
   ]
  },
  {
   "cell_type": "code",
   "execution_count": 21,
   "id": "6fa7b804",
   "metadata": {},
   "outputs": [],
   "source": [
    "# import linear regression library\n",
    "from sklearn.linear_model import LinearRegression\n",
    "from sklearn.model_selection import train_test_split\n",
    "x = data.iloc[:,:-1].values\n",
    "y = data.iloc[:,-1].values\n",
    "x_train,x_test,y_train,y_test = train_test_split(x,y,test_size=0.2,random_state=42)"
   ]
  },
  {
   "cell_type": "code",
   "execution_count": 22,
   "id": "b2512c5e",
   "metadata": {},
   "outputs": [
    {
     "data": {
      "text/plain": [
       "array([[ 6.8],\n",
       "       [ 1.9],\n",
       "       [ 2.1],\n",
       "       [ 4.8],\n",
       "       [ 3.3],\n",
       "       [ 3.1],\n",
       "       [ 6.7],\n",
       "       [ 6.3],\n",
       "       [ 5.3],\n",
       "       [ 2.4],\n",
       "       [ 5. ],\n",
       "       [ 7.7],\n",
       "       [ 7.2],\n",
       "       [ 4.6],\n",
       "       [ 3.3],\n",
       "       [ 4.9],\n",
       "       [ 1.7],\n",
       "       [ 1.6],\n",
       "       [ 3.6],\n",
       "       [10.8],\n",
       "       [ 8.5],\n",
       "       [ 4. ],\n",
       "       [ 4.3],\n",
       "       [ 1.1],\n",
       "       [ 5.3],\n",
       "       [ 1.9],\n",
       "       [ 3.9],\n",
       "       [ 3.6],\n",
       "       [ 5.1],\n",
       "       [ 4.7],\n",
       "       [ 8.8],\n",
       "       [ 2.5],\n",
       "       [ 8.1],\n",
       "       [ 5.3],\n",
       "       [ 4.8],\n",
       "       [ 3.5],\n",
       "       [ 5. ],\n",
       "       [ 2.4],\n",
       "       [ 2.8],\n",
       "       [ 2.1],\n",
       "       [ 2.1],\n",
       "       [ 4.4],\n",
       "       [ 4.5],\n",
       "       [ 2.6],\n",
       "       [ 1.9],\n",
       "       [ 3.8],\n",
       "       [ 4.1],\n",
       "       [ 3.6],\n",
       "       [ 4.2],\n",
       "       [ 6.2],\n",
       "       [ 6.1],\n",
       "       [ 4.4],\n",
       "       [ 2.9],\n",
       "       [ 7.1],\n",
       "       [ 2.1],\n",
       "       [ 3.1],\n",
       "       [13. ],\n",
       "       [ 3.1],\n",
       "       [ 3.5],\n",
       "       [ 3.4],\n",
       "       [ 1.5],\n",
       "       [ 3.9],\n",
       "       [ 2.6],\n",
       "       [ 3.3],\n",
       "       [ 6.8],\n",
       "       [ 1.6],\n",
       "       [ 1. ],\n",
       "       [ 1.9],\n",
       "       [ 2.8],\n",
       "       [ 5.8],\n",
       "       [ 1.9],\n",
       "       [ 5.1],\n",
       "       [ 3.1],\n",
       "       [ 3.6],\n",
       "       [ 5.4],\n",
       "       [ 3. ],\n",
       "       [ 4. ],\n",
       "       [ 1.8],\n",
       "       [ 6.5],\n",
       "       [ 3.1]])"
      ]
     },
     "execution_count": 22,
     "metadata": {},
     "output_type": "execute_result"
    }
   ],
   "source": [
    "x_train"
   ]
  },
  {
   "cell_type": "code",
   "execution_count": 23,
   "id": "6b3402cb",
   "metadata": {},
   "outputs": [
    {
     "data": {
      "text/plain": [
       "array([[5.7],\n",
       "       [5.4],\n",
       "       [3.8],\n",
       "       [3.6],\n",
       "       [4. ],\n",
       "       [3.7],\n",
       "       [3.8],\n",
       "       [3.5],\n",
       "       [3.6],\n",
       "       [5.5],\n",
       "       [5.2],\n",
       "       [2.9],\n",
       "       [3.1],\n",
       "       [2.2],\n",
       "       [3.3],\n",
       "       [4.2],\n",
       "       [4.3],\n",
       "       [1.7],\n",
       "       [1.6],\n",
       "       [1.9]])"
      ]
     },
     "execution_count": 23,
     "metadata": {},
     "output_type": "execute_result"
    }
   ],
   "source": [
    "x_test"
   ]
  },
  {
   "cell_type": "code",
   "execution_count": 24,
   "id": "b5f45687",
   "metadata": {},
   "outputs": [
    {
     "data": {
      "text/plain": [
       "array([ 6941173,  2025297,  2967425,  4952255,  3452382,  3918918,\n",
       "        6836483,  6412623,  4544227,  2525375,  3861370,  7865428,\n",
       "        7495092,  7705945,  3410878,  4517319,  1882131,  1756069,\n",
       "        3903884, 19696939,  8630682,  4100886,  6491607,  1270499,\n",
       "        6135276,  1521934,  4066618,  2778621,  5286212,  5107746,\n",
       "        7904084,  2175511,  7513524,  5461700,  5152497,  3871344,\n",
       "        5966635,  2551252,  3028267,  2364478,  2390534,  4567678,\n",
       "        4651866,  2732645,  2156098,  4052733,  4250758,  3836721,\n",
       "        4350573,  6694797,  6313221,  4554237,  3004429,  7201784,\n",
       "        2344689,  3258837, 16549064,  3261924,  3753720,  3600467,\n",
       "        1619683,  4250553,  2740687,  2447890,  7223131,  1763231,\n",
       "         849870,  2555379,  1999068,  5906596,  2083447,  5500818,\n",
       "        3351383,  3807496,  5025735,  3164972,  4136425,  1099097,\n",
       "        6782425,  3273041], dtype=int64)"
      ]
     },
     "execution_count": 24,
     "metadata": {},
     "output_type": "execute_result"
    }
   ],
   "source": [
    "y_train"
   ]
  },
  {
   "cell_type": "code",
   "execution_count": 25,
   "id": "c4abf3a4",
   "metadata": {},
   "outputs": [
    {
     "data": {
      "text/plain": [
       "array([5966193, 5595267, 3982767, 3752885, 4264176, 3818055, 4956086,\n",
       "       3727364, 3945135, 5953753, 4937526, 2408199, 3347767, 2371202,\n",
       "       3426169, 4816715, 4590423, 1904842, 2234634, 2358644], dtype=int64)"
      ]
     },
     "execution_count": 25,
     "metadata": {},
     "output_type": "execute_result"
    }
   ],
   "source": [
    "y_test"
   ]
  },
  {
   "cell_type": "code",
   "execution_count": 26,
   "id": "5ec3af74",
   "metadata": {},
   "outputs": [
    {
     "data": {
      "text/plain": [
       "LinearRegression()"
      ]
     },
     "execution_count": 26,
     "metadata": {},
     "output_type": "execute_result"
    }
   ],
   "source": [
    "regressor = LinearRegression()\n",
    "regressor.fit(x_train,y_train)"
   ]
  },
  {
   "cell_type": "code",
   "execution_count": 27,
   "id": "d5f618fd",
   "metadata": {},
   "outputs": [
    {
     "data": {
      "text/plain": [
       "array([6351103.23642517, 5984998.65773576, 4032440.90472562,\n",
       "       3788371.18559935, 4276510.62385189, 3910406.04516249,\n",
       "       4032440.90472562, 3666336.32603622, 3788371.18559935,\n",
       "       6107033.5172989 , 5740928.9386095 , 2934127.16865742,\n",
       "       3178196.88778369, 2079883.15171548, 3422266.60690995,\n",
       "       4520580.34297816, 4642615.20254129, 1469708.85389981,\n",
       "       1347673.99433668, 1713778.57302608])"
      ]
     },
     "execution_count": 27,
     "metadata": {},
     "output_type": "execute_result"
    }
   ],
   "source": [
    "y_pred = regressor.predict(x_test)\n",
    "y_pred"
   ]
  },
  {
   "cell_type": "code",
   "execution_count": 29,
   "id": "d3c9d26c",
   "metadata": {},
   "outputs": [
    {
     "data": {
      "text/plain": [
       "<function matplotlib.pyplot.show(close=None, block=None)>"
      ]
     },
     "execution_count": 29,
     "metadata": {},
     "output_type": "execute_result"
    },
    {
     "data": {
      "image/png": "[encoded data removed]",
      "text/plain": [
       "<Figure size 432x288 with 1 Axes>"
      ]
     },
     "metadata": {
      "needs_background": "light"
     },
     "output_type": "display_data"
    }
   ],
   "source": [
    "#visualize the training set result\n",
    "plt.scatter(x_train,y_train,color='blue')\n",
    "plt.plot(x_train,regressor.predict(x_train),color='green')\n",
    "plt.title(\"revenue vs order\")\n",
    "plt.xlabel('Order')\n",
    "plt.ylabel('Revenue')\n",
    "plt.show"
   ]
  },
  {
   "cell_type": "code",
   "execution_count": 30,
   "id": "845e5ecc",
   "metadata": {},
   "outputs": [
    {
     "data": {
      "image/png": "[encoded data removed]",
      "text/plain": [
       "<Figure size 432x288 with 1 Axes>"
      ]
     },
     "metadata": {
      "needs_background": "light"
     },
     "output_type": "display_data"
    }
   ],
   "source": [
    "#visualize the tes result\n",
    "plt.scatter(x_test,y_test,color='blue')\n",
    "plt.plot(x_test,regressor.predict(x_test),color='green')\n",
    "plt.title('Revenue VS Order')\n",
    "plt.xlabel('Orders')\n",
    "plt.ylabel('Revenue')\n",
    "plt.show()"
   ]
  },
  {
   "cell_type": "code",
   "execution_count": 32,
   "id": "b86a869b",
   "metadata": {},
   "outputs": [
    {
     "data": {
      "text/plain": [
       "0.9109612329066813"
      ]
     },
     "execution_count": 32,
     "metadata": {},
     "output_type": "execute_result"
    }
   ],
   "source": [
    "#accuracy of the model\n",
    "from sklearn.metrics import r2_score\n",
    "score = r2_score(y_pred,y_test)\n",
    "score"
   ]
  },
  {
   "cell_type": "code",
   "execution_count": null,
   "id": "011fde60",
   "metadata": {},
   "outputs": [],
   "source": []
  },
  {
   "cell_type": "code",
   "execution_count": null,
   "id": "7a905301",
   "metadata": {},
   "outputs": [],
   "source": []
  },
  {
   "cell_type": "code",
   "execution_count": null,
   "id": "2509648e",
   "metadata": {},
   "outputs": [],
   "source": []
  }
 ],
 "metadata": {
  "kernelspec": {
   "display_name": "Python 3 (ipykernel)",
   "language": "python",
   "name": "python3"
  },
  "language_info": {
   "codemirror_mode": {
    "name": "ipython",
    "version": 3
   },
   "file_extension": ".py",
   "mimetype": "text/x-python",
   "name": "python",
   "nbconvert_exporter": "python",
   "pygments_lexer": "ipython3",
   "version": "3.9.7"
  }
 },
 "nbformat": 4,
 "nbformat_minor": 5
}
